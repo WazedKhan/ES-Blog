{
 "cells": [
  {
   "cell_type": "code",
   "execution_count": 163,
   "metadata": {},
   "outputs": [],
   "source": [
    "import django_config\n",
    "from blog.documents import UserDocument, BlogPostDocument, CategoryDocument"
   ]
  },
  {
   "cell_type": "code",
   "execution_count": 164,
   "id": "a7f43cd5",
   "metadata": {},
   "outputs": [],
   "source": [
    "import logging\n",
    "from elasticsearch_dsl.connections import connections\n",
    "\n",
    "# Configure logging for Elasticsearch\n",
    "logging.getLogger('elasticsearch').setLevel(logging.DEBUG)"
   ]
  },
  {
   "cell_type": "code",
   "execution_count": 165,
   "id": "5137ae3e",
   "metadata": {},
   "outputs": [],
   "source": [
    "from elasticsearch_dsl import Q"
   ]
  },
  {
   "cell_type": "code",
   "execution_count": 166,
   "id": "36ab7194",
   "metadata": {},
   "outputs": [],
   "source": [
    "search = BlogPostDocument.search()"
   ]
  },
  {
   "cell_type": "code",
   "execution_count": 167,
   "id": "ca3c8287",
   "metadata": {},
   "outputs": [],
   "source": [
    "query_value = \"programming\""
   ]
  },
  {
   "cell_type": "code",
   "execution_count": 168,
   "id": "38586539",
   "metadata": {},
   "outputs": [],
   "source": [
    "q =Q(\n",
    "    'multi_match',\n",
    "    query=query_value,\n",
    "    fields =['title']\n",
    ")"
   ]
  },
  {
   "cell_type": "code",
   "execution_count": 169,
   "id": "c5c5d80b",
   "metadata": {},
   "outputs": [],
   "source": [
    "search_one = search.query(q)"
   ]
  },
  {
   "cell_type": "code",
   "execution_count": 170,
   "id": "32f4414c",
   "metadata": {},
   "outputs": [
    {
     "data": {
      "text/plain": [
       "<Response: [BlogPostDocument(index='blog_blog_posts', id='38009'), BlogPostDocument(index='blog_blog_posts', id='38010')]>"
      ]
     },
     "execution_count": 170,
     "metadata": {},
     "output_type": "execute_result"
    }
   ],
   "source": [
    "response = search_one.execute()\n",
    "response"
   ]
  },
  {
   "cell_type": "code",
   "execution_count": 171,
   "id": "d9a1ec05",
   "metadata": {},
   "outputs": [
    {
     "name": "stdout",
     "output_type": "stream",
     "text": [
      "C: The Bedrock of System Programming\n",
      "Python: A Versatile and Powerful Programming Language\n"
     ]
    }
   ],
   "source": [
    "for hit in search_one:\n",
    "    print(hit.title)"
   ]
  },
  {
   "cell_type": "markdown",
   "id": "7ee4fe3d",
   "metadata": {},
   "source": [
    "## Looks up all the articles that:\n",
    "1) Contain 'language' in the 'title'\n",
    "2) Don't contain 'ruby' or 'javascript' in the 'title'\n",
    "3) And contain the query either in the 'title' or 'description'"
   ]
  },
  {
   "cell_type": "code",
   "execution_count": 172,
   "id": "6c2a2991",
   "metadata": {},
   "outputs": [],
   "source": [
    "query = \"programming\""
   ]
  },
  {
   "cell_type": "code",
   "execution_count": 173,
   "id": "2c1b26f1",
   "metadata": {},
   "outputs": [],
   "source": [
    "q = Q(\n",
    "    \"bool\",\n",
    "    must =[\n",
    "        Q(\"match\", title=\"python\"),\n",
    "    ],\n",
    "    must_not=[\n",
    "        Q(\"match\", title=\"here\"),\n",
    "        Q(\"match\", title=\"there\"),\n",
    "    ],\n",
    "    should=[\n",
    "        Q(\"match\", title=query),\n",
    "        Q(\"match\", content=query),\n",
    "    ],\n",
    "    minimum_should_match=1\n",
    ")"
   ]
  },
  {
   "cell_type": "code",
   "execution_count": 174,
   "id": "b6b9ee9f",
   "metadata": {},
   "outputs": [],
   "source": [
    "search_two = search.query(q)"
   ]
  },
  {
   "cell_type": "code",
   "execution_count": 175,
   "id": "b02b6ed2",
   "metadata": {},
   "outputs": [
    {
     "data": {
      "text/plain": [
       "<Response: [BlogPostDocument(index='blog_blog_posts', id='38010')]>"
      ]
     },
     "execution_count": 175,
     "metadata": {},
     "output_type": "execute_result"
    }
   ],
   "source": [
    "response = search_two.execute()\n",
    "response"
   ]
  },
  {
   "cell_type": "code",
   "execution_count": 176,
   "id": "2ac4c07b",
   "metadata": {},
   "outputs": [
    {
     "name": "stdout",
     "output_type": "stream",
     "text": [
      "Python: A Versatile and Powerful Programming Language\n",
      "Python has gained immense popularity for its simplicity and versatility. From web development to data analysis, Python's easy-to-read syntax makes it a great choice for beginners and experts alike. With a vast library ecosystem, you can accomplish a wide range of tasks efficiently\n"
     ]
    }
   ],
   "source": [
    "for hit in search_two:\n",
    "    print(hit.title)\n",
    "    print(hit.content)"
   ]
  },
  {
   "cell_type": "markdown",
   "id": "f82ce2c5",
   "metadata": {},
   "source": [
    "## Filter by PK list"
   ]
  },
  {
   "cell_type": "code",
   "execution_count": 177,
   "id": "5dc21450",
   "metadata": {},
   "outputs": [],
   "source": [
    "search = BlogPostDocument.search()"
   ]
  },
  {
   "cell_type": "code",
   "execution_count": 196,
   "id": "e50d389d",
   "metadata": {},
   "outputs": [],
   "source": [
    "pk_list = [23, 9540, 9795, 9873]"
   ]
  },
  {
   "cell_type": "code",
   "execution_count": 197,
   "id": "a2bd4b46",
   "metadata": {},
   "outputs": [
    {
     "name": "stderr",
     "output_type": "stream",
     "text": [
      "/home/wazed/Personal/ES-Blog/env/lib/python3.10/site-packages/elasticsearch/connection/base.py:200: ElasticsearchWarning: Elasticsearch built-in security features are not enabled. Without authentication, your cluster could be accessible to anyone. See https://www.elastic.co/guide/en/elasticsearch/reference/7.17/security-minimal-setup.html to enable security.\n",
      "  warnings.warn(message, category=ElasticsearchWarning)\n"
     ]
    }
   ],
   "source": [
    "search = BlogPostDocument.search()\n",
    "\n",
    "# Apply filter by specific id\n",
    "specific_id = 9540\n",
    "search = search.filter(\"terms\", id=pk_list)\n",
    "\n",
    "# Execute the search\n",
    "response = search.execute()"
   ]
  },
  {
   "cell_type": "code",
   "execution_count": 200,
   "id": "8cda8861",
   "metadata": {},
   "outputs": [
    {
     "name": "stdout",
     "output_type": "stream",
     "text": [
      "9540\n",
      "9795\n",
      "9873\n"
     ]
    }
   ],
   "source": [
    "for hits in search:\n",
    "    print(hits.id)"
   ]
  },
  {
   "cell_type": "code",
   "execution_count": null,
   "id": "8d5c47ad",
   "metadata": {},
   "outputs": [],
   "source": []
  }
 ],
 "metadata": {
  "kernelspec": {
   "display_name": "env",
   "language": "python",
   "name": "python3"
  },
  "language_info": {
   "codemirror_mode": {
    "name": "ipython",
    "version": 3
   },
   "file_extension": ".py",
   "mimetype": "text/x-python",
   "name": "python",
   "nbconvert_exporter": "python",
   "pygments_lexer": "ipython3",
   "version": "3.10.12"
  }
 },
 "nbformat": 4,
 "nbformat_minor": 5
}
